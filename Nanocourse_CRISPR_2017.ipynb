{
 "cells": [
  {
   "cell_type": "markdown",
   "metadata": {},
   "source": [
    "## Google doc with required deps here:\n",
    "\n",
    "\n",
    "https://docs.google.com/document/d/1fUM2bguzMHy6NOR1kX_zfABbEWaU9nwBfdWSabp0PDA/edit"
   ]
  },
  {
   "cell_type": "markdown",
   "metadata": {},
   "source": [
    "## Is Docker installed?"
   ]
  },
  {
   "cell_type": "code",
   "execution_count": null,
   "metadata": {},
   "outputs": [],
   "source": [
    "docker run hello-world"
   ]
  },
  {
   "cell_type": "markdown",
   "metadata": {},
   "source": [
    "Let's check we have at least 8GB of memory allocated to docker"
   ]
  },
  {
   "cell_type": "code",
   "execution_count": null,
   "metadata": {},
   "outputs": [],
   "source": [
    "docker run -it ubuntu free -h"
   ]
  },
  {
   "cell_type": "markdown",
   "metadata": {},
   "source": [
    "## Let's download the required docker images"
   ]
  },
  {
   "cell_type": "code",
   "execution_count": null,
   "metadata": {},
   "outputs": [],
   "source": [
    "#docker image for crispor and crispresso\n",
    "docker pull pinellolab/crispor_crispresso_nat_prot\n"
   ]
  },
  {
   "cell_type": "code",
   "execution_count": null,
   "metadata": {},
   "outputs": [],
   "source": [
    "#docker image for cas-offinder\n",
    "docker pull lucapinello/cas-offinder"
   ]
  },
  {
   "cell_type": "code",
   "execution_count": null,
   "metadata": {},
   "outputs": [],
   "source": [
    "#let's check the current folder\n",
    "pwd"
   ]
  },
  {
   "cell_type": "code",
   "execution_count": null,
   "metadata": {
    "collapsed": true
   },
   "outputs": [],
   "source": [
    "#let's create a folder that will contain the genome files for CRISPOR and cas-offinder"
   ]
  },
  {
   "cell_type": "code",
   "execution_count": null,
   "metadata": {},
   "outputs": [],
   "source": [
    "mkdir crispor_genomes"
   ]
  },
  {
   "cell_type": "code",
   "execution_count": null,
   "metadata": {},
   "outputs": [],
   "source": [
    "ls"
   ]
  },
  {
   "cell_type": "code",
   "execution_count": null,
   "metadata": {
    "collapsed": true
   },
   "outputs": [],
   "source": [
    "#download the human genome assembly hg19\n",
    "docker run -v $PWD/crispor_genomes:/crisporWebsite/genomes pinellolab/crispor_crispresso_nat_prot downloadGenome hg19 /crisporWebsite/genomes\n"
   ]
  },
  {
   "cell_type": "markdown",
   "metadata": {},
   "source": [
    "## 1. Crispor Demo"
   ]
  },
  {
   "cell_type": "raw",
   "metadata": {},
   "source": [
    "In this example we run CRISPOR to design guides for the exon 2 of BCLA11A primary transcript using the Human Genome as as reference (hg19)\n"
   ]
  },
  {
   "cell_type": "code",
   "execution_count": null,
   "metadata": {},
   "outputs": [],
   "source": [
    "echo '>BCL11A' > crispor_input.fa\n",
    "echo 'CCGAGCCTCTTGAAGCCATTCTTACAGATGATGAACCAGACCACGGCCCGTTGGGAGCTCCAGAAGGGGATCATGACCTCCTCACCTGTGGGCAGTGCCAGATGAACTTCCCATTGGGGGACATTCTTATTTTTATCGAGCACAAACGGAAACAATGCAATGGCAGCCTCTGCTTAGAAAAAGCTGTGGATAAGCCACCTTCCCCTTCACCAATCGAGATGAAAAAAGCATCCAATCCCGTGGAGGTTGGCATCCAGGTCACGCCAGAGGATGACGATTGTTTATCAACGTCATCTAGAGGAATTTGCCCCAAACAGGAACACATAGCAG' >> crispor_input.fa"
   ]
  },
  {
   "cell_type": "code",
   "execution_count": null,
   "metadata": {},
   "outputs": [],
   "source": [
    "cat crispor_input.fa"
   ]
  },
  {
   "cell_type": "code",
   "execution_count": null,
   "metadata": {},
   "outputs": [],
   "source": [
    "#design guides\n",
    "docker  run  \\\n",
    "-v  $PWD/crispor_genomes:/crisporWebsite/genomes \\\n",
    "-v $PWD/:/DATA \\\n",
    "-w /DATA pinellolab/crispor_crispresso_nat_prot \\\n",
    "crispor.py hg19 crispor_input.fa crispor_output.tsv --satMutDir=./\n"
   ]
  },
  {
   "cell_type": "code",
   "execution_count": null,
   "metadata": {},
   "outputs": [],
   "source": [
    "!ls "
   ]
  },
  {
   "cell_type": "code",
   "execution_count": null,
   "metadata": {
    "collapsed": true
   },
   "outputs": [],
   "source": [
    "#simulate filtering, in this case we take the top 10 guides\n",
    "docker run \\\n",
    "-v $PWD/:/DATA \\\n",
    "-w /DATA pinellolab/crispor_crispresso_nat_prot \\\n",
    "bash -c \"head -n 10 BCL11A_satMutOligos.tsv > BCL11A_satMutOligos_filtered.tsv\" \n"
   ]
  },
  {
   "cell_type": "code",
   "execution_count": null,
   "metadata": {},
   "outputs": [],
   "source": [
    "head BCL11A_satMutOligos_filtered.tsv"
   ]
  },
  {
   "cell_type": "code",
   "execution_count": null,
   "metadata": {},
   "outputs": [],
   "source": [
    "#create filtered files for the experiment and for CRISPResso analysis\n",
    "docker run -v $PWD:/DATA -w /DATA pinellolab/crispor_crispresso_nat_prot bash -c \"join -1 1 -2 1 BCL11A_satMutOligos_filtered.tsv BCL11A_ontargetAmplicons.tsv -o 2.1,2.2,2.3 > CRISPRessoPooled_amplicons.tsv\"\n",
    "\n"
   ]
  },
  {
   "cell_type": "code",
   "execution_count": null,
   "metadata": {},
   "outputs": [],
   "source": [
    "#create filtered files for CRISPResso analysis\n",
    "docker run -v $PWD:/DATA -w /DATA pinellolab/crispor_crispresso_nat_prot bash -c \"join -1 1 -2 1 BCL11A_satMutOligos_filtered.tsv BCL11A_ontargetPrimers.tsv -o 2.1,2.2,2.3,2.4,2.5,2.6,2.7 > BCL11A_ontargetPrimers_filtered.tsv\""
   ]
  },
  {
   "cell_type": "code",
   "execution_count": null,
   "metadata": {},
   "outputs": [],
   "source": [
    "head  BCL11A_ontargetPrimers_filtered.tsv"
   ]
  },
  {
   "cell_type": "markdown",
   "metadata": {},
   "source": [
    "## 2. CRISPResso Demo"
   ]
  },
  {
   "cell_type": "markdown",
   "metadata": {},
   "source": [
    "Let's now try to run CRIPSResso on data from the last guide in this table:  \n",
    "\n",
    "\n",
    "52forw CCACAGGTGAGGAGGTCATG 59.749 TTTCTCCAACCACAGCCGAG 60.250 CCACAGGTGAGGAGGTCATGATCCCCTTCTGGAGCTCCCAACGGGCCGTGGTCTGGTTCATCATCTGTAAGAATGGCTTCAAGAGGCTCGGCTGTGGTTGGAGAAA TGAACCAGACCACGGCCCGT\n",
    "\n",
    "The amplicon for the experiment was a little bit different since it was not designed with CRISPRO:\n",
    "\n",
    "AMPLICON:\n",
    "AATGTCCCCCAATGGGAAGTTCATCTGGCACTGCCCACAGGTGAGGAGGTCATGATCCCCTTCTGGAGCTCCCAACGGGCCGTGGTCTGGTTCATCATCTGTAAGAATGGCTTCAAGAGGCTCGGCTGTGGTT \n",
    "\n",
    "GUIDE:\n",
    "TGAACCAGACCACGGCCCGT\n"
   ]
  },
  {
   "cell_type": "code",
   "execution_count": null,
   "metadata": {},
   "outputs": [],
   "source": [
    "#let's download the data\n",
    "wget http://bcb.dfci.harvard.edu/~lpinello/CRISPResso/reads1.fastq.gz\n",
    "wget http://bcb.dfci.harvard.edu/~lpinello/CRISPResso/reads2.fastq.gz"
   ]
  },
  {
   "cell_type": "code",
   "execution_count": null,
   "metadata": {},
   "outputs": [],
   "source": [
    "#finally we run CRISPResso\n",
    "docker  run \\\n",
    "-v $PWD:/DATA \\\n",
    "-w /DATA pinellolab/crispor_crispresso_nat_prot  \\\n",
    "CRISPResso -r1 reads1.fastq.gz -r2 reads2.fastq.gz \\\n",
    "-a AATGTCCCCCAATGGGAAGTTCATCTGGCACTGCCCACAGGTGAGGAGGTCATGATCCCCTTCTGGAGCTCCCAACGGGCCGTGGTCTGGTTCATCATCTGTAAGAATGGCTTCAAGAGGCTCGGCTGTGGTT \\\n",
    "-g TGAACCAGACCACGGCCCGT \\\n",
    "-s 20 \\\n",
    "-q 30 \\\n",
    "-n BCL11A_exon2\n"
   ]
  },
  {
   "cell_type": "markdown",
   "metadata": {},
   "source": [
    "## 3. CasOffinder Demo"
   ]
  },
  {
   "cell_type": "markdown",
   "metadata": {},
   "source": [
    "Finally let's compute all the potential off-target of our guide with cas-offinder with up to 6 mismatches"
   ]
  },
  {
   "cell_type": "code",
   "execution_count": null,
   "metadata": {},
   "outputs": [],
   "source": [
    "#let's take a look to the command syntax\n",
    "docker run lucapinello/cas-offinder cas-offinder --help"
   ]
  },
  {
   "cell_type": "code",
   "execution_count": null,
   "metadata": {
    "collapsed": true
   },
   "outputs": [],
   "source": [
    "#now we create the required input file"
   ]
  },
  {
   "cell_type": "raw",
   "metadata": {},
   "source": [
    "Let's consider the reverse complement of our guide to check in the amplicon what is the PAM:      \n",
    "TGAACCAGACCACGGCCCGT[TGG]\n",
    "[CCA]ACGGGCCGTGGTCTGGTTCA"
   ]
  },
  {
   "cell_type": "code",
   "execution_count": null,
   "metadata": {},
   "outputs": [],
   "source": [
    "pwd"
   ]
  },
  {
   "cell_type": "code",
   "execution_count": null,
   "metadata": {
    "collapsed": true
   },
   "outputs": [],
   "source": [
    "echo '/DATA/crispor_genomes/hg19/hg19.2bit' > cas_offinder_input.txt\n",
    "echo 'NNNNNNNNNNNNNNNNNNNNNGG' >> cas_offinder_input.txt\n",
    "echo 'TGAACCAGACCACGGCCCGTNGG 5' >> cas_offinder_input.txt"
   ]
  },
  {
   "cell_type": "code",
   "execution_count": null,
   "metadata": {},
   "outputs": [],
   "source": [
    "cat cas_offinder_input.txt"
   ]
  },
  {
   "cell_type": "code",
   "execution_count": null,
   "metadata": {},
   "outputs": [],
   "source": [
    "#finally we can run cas-offinder \n",
    "docker run \\\n",
    "-v $PWD:/DATA \\\n",
    "-w /DATA  \\\n",
    "lucapinello/cas-offinder  \\\n",
    "cas-offinder cas_offinder_input.txt C cas_offinder_output.txt"
   ]
  },
  {
   "cell_type": "code",
   "execution_count": null,
   "metadata": {},
   "outputs": [],
   "source": [
    "head cas_offinder_output.txt"
   ]
  },
  {
   "cell_type": "code",
   "execution_count": null,
   "metadata": {
    "collapsed": true
   },
   "outputs": [],
   "source": []
  },
  {
   "cell_type": "code",
   "execution_count": null,
   "metadata": {
    "collapsed": true
   },
   "outputs": [],
   "source": []
  }
 ],
 "metadata": {
  "kernelspec": {
   "display_name": "Bash",
   "language": "bash",
   "name": "bash"
  },
  "language_info": {
   "codemirror_mode": "shell",
   "file_extension": ".sh",
   "mimetype": "text/x-sh",
   "name": "bash"
  }
 },
 "nbformat": 4,
 "nbformat_minor": 2
}
