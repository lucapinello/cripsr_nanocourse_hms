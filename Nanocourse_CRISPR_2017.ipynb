{
 "cells": [
  {
   "cell_type": "markdown",
   "metadata": {},
   "source": [
    "## Google doc with required deps here:\n",
    "\n",
    "\n",
    "https://docs.google.com/document/d/1fUM2bguzMHy6NOR1kX_zfABbEWaU9nwBfdWSabp0PDA/edit"
   ]
  },
  {
   "cell_type": "markdown",
   "metadata": {},
   "source": [
    "## Is Docker installed?"
   ]
  },
  {
   "cell_type": "code",
   "execution_count": 1,
   "metadata": {},
   "outputs": [
    {
     "name": "stdout",
     "output_type": "stream",
     "text": [
      "\n",
      "Hello from Docker!\n",
      "This message shows that your installation appears to be working correctly.\n",
      "\n",
      "To generate this message, Docker took the following steps:\n",
      " 1. The Docker client contacted the Docker daemon.\n",
      " 2. The Docker daemon pulled the \"hello-world\" image from the Docker Hub.\n",
      " 3. The Docker daemon created a new container from that image which runs the\n",
      "    executable that produces the output you are currently reading.\n",
      " 4. The Docker daemon streamed that output to the Docker client, which sent it\n",
      "    to your terminal.\n",
      "\n",
      "To try something more ambitious, you can run an Ubuntu container with:\n",
      " $ docker run -it ubuntu bash\n",
      "\n",
      "Share images, automate workflows, and more with a free Docker ID:\n",
      " https://cloud.docker.com/\n",
      "\n",
      "For more examples and ideas, visit:\n",
      " https://docs.docker.com/engine/userguide/\n",
      "\n"
     ]
    }
   ],
   "source": [
    "docker run hello-world"
   ]
  },
  {
   "cell_type": "markdown",
   "metadata": {},
   "source": [
    "Let's check we have at least 8GB of memory allocated to docker"
   ]
  },
  {
   "cell_type": "code",
   "execution_count": 2,
   "metadata": {},
   "outputs": [
    {
     "name": "stdout",
     "output_type": "stream",
     "text": [
      "              total        used        free      shared  buff/cache   available\n",
      "Mem:           7.8G        129M        6.6G        161M        1.1G        7.3G\n",
      "Swap:          1.0G        468K        1.0G\n"
     ]
    }
   ],
   "source": [
    "docker run -it ubuntu free -h"
   ]
  },
  {
   "cell_type": "markdown",
   "metadata": {},
   "source": [
    "## Let's download the required docker images"
   ]
  },
  {
   "cell_type": "code",
   "execution_count": 3,
   "metadata": {},
   "outputs": [
    {
     "name": "stdout",
     "output_type": "stream",
     "text": [
      "Using default tag: latest\n",
      "latest: Pulling from pinellolab/crispor_crispresso_nat_prot\n",
      "Digest: sha256:5ba8c77818b949466848955f8b46aa7c507c6889803ba6f8450b829146f26ffb\n",
      "Status: Image is up to date for pinellolab/crispor_crispresso_nat_prot:latest\n"
     ]
    }
   ],
   "source": [
    "#docker image for crispor and crispresso\n",
    "docker pull pinellolab/crispor_crispresso_nat_prot\n"
   ]
  },
  {
   "cell_type": "code",
   "execution_count": 4,
   "metadata": {},
   "outputs": [
    {
     "name": "stdout",
     "output_type": "stream",
     "text": [
      "Using default tag: latest\n",
      "latest: Pulling from lucapinello/cas-offinder\n",
      "Digest: sha256:e211892414e053f9ed0b975f484b7120c3bf19e0357656d01bd98e70f02156f4\n",
      "Status: Image is up to date for lucapinello/cas-offinder:latest\n"
     ]
    }
   ],
   "source": [
    "#docker image for cas-offinder\n",
    "docker pull lucapinello/cas-offinder"
   ]
  },
  {
   "cell_type": "code",
   "execution_count": 5,
   "metadata": {},
   "outputs": [
    {
     "name": "stdout",
     "output_type": "stream",
     "text": [
      "/Users/luca/nanocourse_examples\n"
     ]
    }
   ],
   "source": [
    "#let's check the current folder\n",
    "pwd"
   ]
  },
  {
   "cell_type": "code",
   "execution_count": 6,
   "metadata": {
    "collapsed": true
   },
   "outputs": [],
   "source": [
    "#let's create a folder that will contain the genome files for CRISPOR and cas-offinder"
   ]
  },
  {
   "cell_type": "code",
   "execution_count": 7,
   "metadata": {
    "collapsed": true
   },
   "outputs": [],
   "source": [
    "mkdir crispor_genomes"
   ]
  },
  {
   "cell_type": "code",
   "execution_count": 8,
   "metadata": {},
   "outputs": [
    {
     "name": "stdout",
     "output_type": "stream",
     "text": [
      "Nanocourse_CRISPR_2017.ipynb\tcrispor_genomes\n",
      "README.md\n"
     ]
    }
   ],
   "source": [
    "ls"
   ]
  },
  {
   "cell_type": "code",
   "execution_count": null,
   "metadata": {
    "collapsed": true
   },
   "outputs": [],
   "source": [
    "#download the human genome assembly hg19 (this may take long!)\n",
    "docker run -v $PWD/crispor_genomes:/crisporWebsite/genomes pinellolab/crispor_crispresso_nat_prot downloadGenome hg19 /crisporWebsite/genomes\n",
    "\n"
   ]
  },
  {
   "cell_type": "markdown",
   "metadata": {},
   "source": [
    "## 1. Crispor Demo"
   ]
  },
  {
   "cell_type": "raw",
   "metadata": {},
   "source": [
    "In this example we run CRISPOR to design guides for the exon 2 of BCLA11A primary transcript using the Human Genome as as reference (hg19)\n"
   ]
  },
  {
   "cell_type": "code",
   "execution_count": 10,
   "metadata": {
    "collapsed": true
   },
   "outputs": [],
   "source": [
    "echo '>BCL11A' > crispor_input.fa\n",
    "echo 'CCGAGCCTCTTGAAGCCATTCTTACAGATGATGAACCAGACCACGGCCCGTTGGGAGCTCCAGAAGGGGATCATGACCTCCTCACCTGTGGGCAGTGCCAGATGAACTTCCCATTGGGGGACATTCTTATTTTTATCGAGCACAAACGGAAACAATGCAATGGCAGCCTCTGCTTAGAAAAAGCTGTGGATAAGCCACCTTCCCCTTCACCAATCGAGATGAAAAAAGCATCCAATCCCGTGGAGGTTGGCATCCAGGTCACGCCAGAGGATGACGATTGTTTATCAACGTCATCTAGAGGAATTTGCCCCAAACAGGAACACATAGCAG' >> crispor_input.fa"
   ]
  },
  {
   "cell_type": "code",
   "execution_count": 11,
   "metadata": {},
   "outputs": [
    {
     "name": "stdout",
     "output_type": "stream",
     "text": [
      ">BCL11A\n",
      "CCGAGCCTCTTGAAGCCATTCTTACAGATGATGAACCAGACCACGGCCCGTTGGGAGCTCCAGAAGGGGATCATGACCTCCTCACCTGTGGGCAGTGCCAGATGAACTTCCCATTGGGGGACATTCTTATTTTTATCGAGCACAAACGGAAACAATGCAATGGCAGCCTCTGCTTAGAAAAAGCTGTGGATAAGCCACCTTCCCCTTCACCAATCGAGATGAAAAAAGCATCCAATCCCGTGGAGGTTGGCATCCAGGTCACGCCAGAGGATGACGATTGTTTATCAACGTCATCTAGAGGAATTTGCCCCAAACAGGAACACATAGCAG\n"
     ]
    }
   ],
   "source": [
    "cat crispor_input.fa"
   ]
  },
  {
   "cell_type": "code",
   "execution_count": 12,
   "metadata": {},
   "outputs": [
    {
     "name": "stdout",
     "output_type": "stream",
     "text": [
      "INFO:root:running on sequence ID 'BCL11A'\n",
      "[M::bwa_idx_load_from_disk] read 0 ALT contigs\n",
      "[bsw2_aln] read 1 sequences/pairs (330 bp) ...\n",
      "[main] Version: 0.7.15-r1140\n",
      "[main] CMD: /crisporWebsite/bin/Linux/bwa bwasw -T 20 /crisporWebsite/genomes/hg19/hg19.fa /tmp/crisporBestMatchfE_x2K.fa\n",
      "[main] Real time: 32.085 sec; CPU: 15.360 sec\n",
      "INFO:root:Progress ekg35N12AoucYNOFrDed - effScores - Calculating guide efficiency scores\n",
      "INFO:root:Wrote eff scores to /tmp/crisporR_HNIr/ekg35N12AoucYNOFrDed.effScores.tab\n",
      "INFO:root:Progress ekg35N12AoucYNOFrDed - bwa - Alignment of potential guides, mismatches <= 4\n",
      "[bwa_aln_core] calculate SA coordinate... 7.13 sec\n",
      "[bwa_aln_core] write to the disk... 0.00 sec\n",
      "[bwa_aln_core] 49 sequences have been processed.\n",
      "[main] Version: 0.7.15-r1140\n",
      "[main] CMD: /crisporWebsite/bin/Linux/bwa aln -o 0 -m 1980000 -n 4 -k 4 -N -l 20 /crisporWebsite/genomes/hg19/hg19.fa /tmp/crisporR_HNIr/ekg35N12AoucYNOFrDed.fa\n",
      "[main] Real time: 22.185 sec; CPU: 11.700 sec\n",
      "INFO:root:Progress ekg35N12AoucYNOFrDed - saiToBed - Converting alignments\n",
      "[bwa_aln_core] convert to sequence coordinate... 7.30 sec\n",
      "[bwa_aln_core] refine gapped alignments... 0.90 sec\n",
      "[bwa_aln_core] print alignments... 0.08 sec\n",
      "[bwa_aln_core] 49 sequences have been processed.\n",
      "[main] Version: 0.7.15-r1140\n",
      "[main] CMD: /crisporWebsite/bin/Linux/bwa samse -n 60000 /crisporWebsite/genomes/hg19/hg19.fa /tmp/crisporR_HNIr/ekg35N12AoucYNOFrDed.sa /tmp/crisporR_HNIr/ekg35N12AoucYNOFrDed.fa\n",
      "[main] Real time: 25.166 sec; CPU: 9.150 sec\n",
      "INFO:root:Progress ekg35N12AoucYNOFrDed - filter - Removing matches without a PAM motif\n",
      "INFO:root:Progress ekg35N12AoucYNOFrDed - genes - Annotating matches with genes\n",
      "INFO:root:Progress ekg35N12AoucYNOFrDed - done - Job completed\n",
      "INFO:root:Writing saturating mutagenesis oligos to ./BCL11A_satMutOligos.tsv\n",
      "INFO:root:Writing primers to ./BCL11A_ontargetPrimers.tsv\n",
      "INFO:root:Writing amplicons to ./BCL11A_ontargetAmplicons.tsv\n",
      "INFO:root:Writing guide sequences to ./BCL11A_targetSeqs.tsv\n",
      "INFO:root:guide info written to crispor_output.tsv\n"
     ]
    }
   ],
   "source": [
    "#design guides\n",
    "docker  run  \\\n",
    "-v  $PWD/crispor_genomes:/crisporWebsite/genomes \\\n",
    "-v $PWD/:/DATA \\\n",
    "-w /DATA pinellolab/crispor_crispresso_nat_prot \\\n",
    "crispor.py hg19 crispor_input.fa crispor_output.tsv --satMutDir=./\n"
   ]
  },
  {
   "cell_type": "code",
   "execution_count": 13,
   "metadata": {},
   "outputs": [
    {
     "name": "stdout",
     "output_type": "stream",
     "text": [
      "ls\n",
      "BCL11A_ontargetAmplicons.tsv\tREADME.md\n",
      "BCL11A_ontargetPrimers.tsv\tcrispor_genomes\n",
      "BCL11A_satMutOligos.tsv\t\tcrispor_input.fa\n",
      "BCL11A_targetSeqs.tsv\t\tcrispor_output.tsv\n",
      "Nanocourse_CRISPR_2017.ipynb\n"
     ]
    }
   ],
   "source": [
    "!ls "
   ]
  },
  {
   "cell_type": "code",
   "execution_count": 14,
   "metadata": {
    "collapsed": true
   },
   "outputs": [],
   "source": [
    "#simulate filtering, in this case we take the top 10 guides\n",
    "docker run \\\n",
    "-v $PWD/:/DATA \\\n",
    "-w /DATA pinellolab/crispor_crispresso_nat_prot \\\n",
    "bash -c \"head -n 10 BCL11A_satMutOligos.tsv > BCL11A_satMutOligos_filtered.tsv\" \n"
   ]
  },
  {
   "cell_type": "code",
   "execution_count": 15,
   "metadata": {},
   "outputs": [
    {
     "name": "stdout",
     "output_type": "stream",
     "text": [
      "#guideId\ttargetSeq\tmitSpecScore\tofftargetCount\ttargetGenomeGeneLocus\tDoench '16EffScore\tMoreno-MateosEffScore\tOligonucleotide\tAdapterHandle+PrimerFw\tAdapterHandle+PrimerRev\n",
      "1rev\tAAGAATGGCTTCAAGAGGCTCGG\t22\t1525\texon:BCL11A\t58\t64\tGGAAAGGACGAAACACCGAAGAATGGCTTCAAGAGGCTGTTTTAGAGCTAGAAATAGCAAGTTAAAATAAGGC\tTCGTCGGCAGCGTCAGATGTGTATAAGAGACAGGCCGTGGTCTGGTTCATCAT\tGTCTCGTGGGCTCGGAGATGTGTATAAGAGACAGGGATGGCATGGGGTTGAGAT\n",
      "6rev\tTCTGTAAGAATGGCTTCAAGAGG\t65\t211\texon:BCL11A\t65\t36\tGGAAAGGACGAAACACCGTCTGTAAGAATGGCTTCAAGGTTTTAGAGCTAGAAATAGCAAGTTAAAATAAGGC\tTCGTCGGCAGCGTCAGATGTGTATAAGAGACAGCCACAGGTGAGGAGGTCATG\tGTCTCGTGGGCTCGGAGATGTGTATAAGAGACAGTTTCTCCAACCACAGCCGAG\n",
      "16rev\tTGGTTCATCATCTGTAAGAATGG\t27\t1058\texon:BCL11A\t51\t37\tGGAAAGGACGAAACACCGTGGTTCATCATCTGTAAGAAGTTTTAGAGCTAGAAATAGCAAGTTAAAATAAGGC\tTCGTCGGCAGCGTCAGATGTGTATAAGAGACAGCCACAGGTGAGGAGGTCATG\tGTCTCGTGGGCTCGGAGATGTGTATAAGAGACAGTTTCTCCAACCACAGCCGAG\n",
      "36rev\tGCTCCCAACGGGCCGTGGTCTGG\t87\t101\texon:BCL11A\t38\t37\tGGAAAGGACGAAACACCGGCTCCCAACGGGCCGTGGTCGTTTTAGAGCTAGAAATAGCAAGTTAAAATAAGGC\tTCGTCGGCAGCGTCAGATGTGTATAAGAGACAGCCACAGGTGAGGAGGTCATG\tGTCTCGTGGGCTCGGAGATGTGTATAAGAGACAGTTTCTCCAACCACAGCCGAG\n",
      "41rev\tCTGGAGCTCCCAACGGGCCGTGG\t87\t134\texon:BCL11A\t43\t42\tGGAAAGGACGAAACACCGCTGGAGCTCCCAACGGGCCGGTTTTAGAGCTAGAAATAGCAAGTTAAAATAAGGC\tTCGTCGGCAGCGTCAGATGTGTATAAGAGACAGCCACAGGTGAGGAGGTCATG\tGTCTCGTGGGCTCGGAGATGTGTATAAGAGACAGTTTCTCCAACCACAGCCGAG\n",
      "44forw\tACAGATGATGAACCAGACCACGG\t59\t237\texon:BCL11A\t69\t48\tGGAAAGGACGAAACACCGACAGATGATGAACCAGACCAGTTTTAGAGCTAGAAATAGCAAGTTAAAATAAGGC\tTCGTCGGCAGCGTCAGATGTGTATAAGAGACAGCCACAGGTGAGGAGGTCATG\tGTCTCGTGGGCTCGGAGATGTGTATAAGAGACAGTTTCTCCAACCACAGCCGAG\n",
      "47rev\tCCCCTTCTGGAGCTCCCAACGGG\t66\t201\texon:BCL11A\t39\t64\tGGAAAGGACGAAACACCGCCCCTTCTGGAGCTCCCAACGTTTTAGAGCTAGAAATAGCAAGTTAAAATAAGGC\tTCGTCGGCAGCGTCAGATGTGTATAAGAGACAGCCACAGGTGAGGAGGTCATG\tGTCTCGTGGGCTCGGAGATGTGTATAAGAGACAGTTTCTCCAACCACAGCCGAG\n",
      "48rev\tTCCCCTTCTGGAGCTCCCAACGG\t65\t233\texon:BCL11A\t49\t50\tGGAAAGGACGAAACACCGTCCCCTTCTGGAGCTCCCAAGTTTTAGAGCTAGAAATAGCAAGTTAAAATAAGGC\tTCGTCGGCAGCGTCAGATGTGTATAAGAGACAGCCACAGGTGAGGAGGTCATG\tGTCTCGTGGGCTCGGAGATGTGTATAAGAGACAGTTTCTCCAACCACAGCCGAG\n",
      "52forw\tTGAACCAGACCACGGCCCGTTGG\t94\t46\texon:BCL11A\t60\t34\tGGAAAGGACGAAACACCGTGAACCAGACCACGGCCCGTGTTTTAGAGCTAGAAATAGCAAGTTAAAATAAGGC\tTCGTCGGCAGCGTCAGATGTGTATAAGAGACAGCCACAGGTGAGGAGGTCATG\tGTCTCGTGGGCTCGGAGATGTGTATAAGAGACAGTTTCTCCAACCACAGCCGAG\n"
     ]
    }
   ],
   "source": [
    "head BCL11A_satMutOligos_filtered.tsv"
   ]
  },
  {
   "cell_type": "code",
   "execution_count": 16,
   "metadata": {
    "collapsed": true
   },
   "outputs": [],
   "source": [
    "#create filtered files for the experiment and for CRISPResso analysis\n",
    "docker run -v $PWD:/DATA -w /DATA pinellolab/crispor_crispresso_nat_prot bash -c \"join -1 1 -2 1 BCL11A_satMutOligos_filtered.tsv BCL11A_ontargetAmplicons.tsv -o 2.1,2.2,2.3 > CRISPRessoPooled_amplicons.tsv\"\n",
    "\n"
   ]
  },
  {
   "cell_type": "code",
   "execution_count": 17,
   "metadata": {
    "collapsed": true
   },
   "outputs": [],
   "source": [
    "#create filtered files for CRISPResso analysis\n",
    "docker run -v $PWD:/DATA -w /DATA pinellolab/crispor_crispresso_nat_prot bash -c \"join -1 1 -2 1 BCL11A_satMutOligos_filtered.tsv BCL11A_ontargetPrimers.tsv -o 2.1,2.2,2.3,2.4,2.5,2.6,2.7 > BCL11A_ontargetPrimers_filtered.tsv\""
   ]
  },
  {
   "cell_type": "code",
   "execution_count": 18,
   "metadata": {},
   "outputs": [
    {
     "name": "stdout",
     "output_type": "stream",
     "text": [
      "#guideId forwardPrimer leftPrimerTm revPrimer revPrimerTm ampliconSequence guideSequence\n",
      "1rev GCCGTGGTCTGGTTCATCAT 60.393 GGATGGCATGGGGTTGAGAT 59.813 GCCGTGGTCTGGTTCATCATCTGTAAGAATGGCTTCAAGAGGCTCGGCTGTGGTTGGAGAAACAAAAGCACAATTATTAGAGTGCCAGAGAGGACAGAAAGGGGAGAAGCACATCTCAACCCCATGCCATCC AAGAATGGCTTCAAGAGGCT\n",
      "6rev CCACAGGTGAGGAGGTCATG 59.749 TTTCTCCAACCACAGCCGAG 60.250 CCACAGGTGAGGAGGTCATGATCCCCTTCTGGAGCTCCCAACGGGCCGTGGTCTGGTTCATCATCTGTAAGAATGGCTTCAAGAGGCTCGGCTGTGGTTGGAGAAA TCTGTAAGAATGGCTTCAAG\n",
      "16rev CCACAGGTGAGGAGGTCATG 59.749 TTTCTCCAACCACAGCCGAG 60.250 CCACAGGTGAGGAGGTCATGATCCCCTTCTGGAGCTCCCAACGGGCCGTGGTCTGGTTCATCATCTGTAAGAATGGCTTCAAGAGGCTCGGCTGTGGTTGGAGAAA TGGTTCATCATCTGTAAGAA\n",
      "36rev CCACAGGTGAGGAGGTCATG 59.749 TTTCTCCAACCACAGCCGAG 60.250 CCACAGGTGAGGAGGTCATGATCCCCTTCTGGAGCTCCCAACGGGCCGTGGTCTGGTTCATCATCTGTAAGAATGGCTTCAAGAGGCTCGGCTGTGGTTGGAGAAA GCTCCCAACGGGCCGTGGTC\n",
      "41rev CCACAGGTGAGGAGGTCATG 59.749 TTTCTCCAACCACAGCCGAG 60.250 CCACAGGTGAGGAGGTCATGATCCCCTTCTGGAGCTCCCAACGGGCCGTGGTCTGGTTCATCATCTGTAAGAATGGCTTCAAGAGGCTCGGCTGTGGTTGGAGAAA CTGGAGCTCCCAACGGGCCG\n",
      "44forw CCACAGGTGAGGAGGTCATG 59.749 TTTCTCCAACCACAGCCGAG 60.250 CCACAGGTGAGGAGGTCATGATCCCCTTCTGGAGCTCCCAACGGGCCGTGGTCTGGTTCATCATCTGTAAGAATGGCTTCAAGAGGCTCGGCTGTGGTTGGAGAAA ACAGATGATGAACCAGACCA\n",
      "47rev CCACAGGTGAGGAGGTCATG 59.749 TTTCTCCAACCACAGCCGAG 60.250 CCACAGGTGAGGAGGTCATGATCCCCTTCTGGAGCTCCCAACGGGCCGTGGTCTGGTTCATCATCTGTAAGAATGGCTTCAAGAGGCTCGGCTGTGGTTGGAGAAA CCCCTTCTGGAGCTCCCAAC\n",
      "48rev CCACAGGTGAGGAGGTCATG 59.749 TTTCTCCAACCACAGCCGAG 60.250 CCACAGGTGAGGAGGTCATGATCCCCTTCTGGAGCTCCCAACGGGCCGTGGTCTGGTTCATCATCTGTAAGAATGGCTTCAAGAGGCTCGGCTGTGGTTGGAGAAA TCCCCTTCTGGAGCTCCCAA\n",
      "52forw CCACAGGTGAGGAGGTCATG 59.749 TTTCTCCAACCACAGCCGAG 60.250 CCACAGGTGAGGAGGTCATGATCCCCTTCTGGAGCTCCCAACGGGCCGTGGTCTGGTTCATCATCTGTAAGAATGGCTTCAAGAGGCTCGGCTGTGGTTGGAGAAA TGAACCAGACCACGGCCCGT\n"
     ]
    }
   ],
   "source": [
    "head  BCL11A_ontargetPrimers_filtered.tsv"
   ]
  },
  {
   "cell_type": "markdown",
   "metadata": {},
   "source": [
    "## 2. CRISPResso Demo"
   ]
  },
  {
   "cell_type": "markdown",
   "metadata": {},
   "source": [
    "Let's now try to run CRIPSResso on data from the last guide in this table:  \n",
    "\n",
    "\n",
    "52forw CCACAGGTGAGGAGGTCATG 59.749 TTTCTCCAACCACAGCCGAG 60.250 CCACAGGTGAGGAGGTCATGATCCCCTTCTGGAGCTCCCAACGGGCCGTGGTCTGGTTCATCATCTGTAAGAATGGCTTCAAGAGGCTCGGCTGTGGTTGGAGAAA TGAACCAGACCACGGCCCGT\n",
    "\n",
    "The amplicon for the experiment was a little bit different since it was not designed with CRISPRO:\n",
    "\n",
    "AMPLICON:\n",
    "AATGTCCCCCAATGGGAAGTTCATCTGGCACTGCCCACAGGTGAGGAGGTCATGATCCCCTTCTGGAGCTCCCAACGGGCCGTGGTCTGGTTCATCATCTGTAAGAATGGCTTCAAGAGGCTCGGCTGTGGTT \n",
    "\n",
    "GUIDE:\n",
    "TGAACCAGACCACGGCCCGT\n"
   ]
  },
  {
   "cell_type": "code",
   "execution_count": 12,
   "metadata": {},
   "outputs": [
    {
     "name": "stdout",
     "output_type": "stream",
     "text": [
      "--2017-10-17 13:35:31--  https://github.com/lucapinello/cripsr_nanocourse_hms/blob/master/reads1.2000.fastq.gz?raw=true\n",
      "Resolving github.com... 192.30.253.113, 192.30.253.112\n",
      "Connecting to github.com|192.30.253.113|:443... connected.\n",
      "HTTP request sent, awaiting response... 302 Found\n",
      "Location: https://github.com/lucapinello/cripsr_nanocourse_hms/raw/master/reads1.2000.fastq.gz [following]\n",
      "--2017-10-17 13:35:31--  https://github.com/lucapinello/cripsr_nanocourse_hms/raw/master/reads1.2000.fastq.gz\n",
      "Reusing existing connection to github.com:443.\n",
      "HTTP request sent, awaiting response... 302 Found\n",
      "Location: https://raw.githubusercontent.com/lucapinello/cripsr_nanocourse_hms/master/reads1.2000.fastq.gz [following]\n",
      "--2017-10-17 13:35:31--  https://raw.githubusercontent.com/lucapinello/cripsr_nanocourse_hms/master/reads1.2000.fastq.gz\n",
      "Resolving raw.githubusercontent.com... 151.101.116.133\n",
      "Connecting to raw.githubusercontent.com|151.101.116.133|:443... connected.\n",
      "HTTP request sent, awaiting response... 200 OK\n",
      "Length: 18908 (18K) [application/octet-stream]\n",
      "Saving to: ‘reads1.2000.fastq.gz’\n",
      "\n",
      "reads1.2000.fastq.g 100%[===================>]  18.46K  --.-KB/s    in 0.03s   \n",
      "\n",
      "2017-10-17 13:35:32 (603 KB/s) - ‘reads1.2000.fastq.gz’ saved [18908/18908]\n",
      "\n",
      "--2017-10-17 13:35:32--  https://github.com/lucapinello/cripsr_nanocourse_hms/blob/master/reads2.2000.fastq.gz?raw=true\n",
      "Resolving github.com... 192.30.253.113, 192.30.253.112\n",
      "Connecting to github.com|192.30.253.113|:443... connected.\n",
      "HTTP request sent, awaiting response... 302 Found\n",
      "Location: https://github.com/lucapinello/cripsr_nanocourse_hms/raw/master/reads2.2000.fastq.gz [following]\n",
      "--2017-10-17 13:35:32--  https://github.com/lucapinello/cripsr_nanocourse_hms/raw/master/reads2.2000.fastq.gz\n",
      "Reusing existing connection to github.com:443.\n",
      "HTTP request sent, awaiting response... 302 Found\n",
      "Location: https://raw.githubusercontent.com/lucapinello/cripsr_nanocourse_hms/master/reads2.2000.fastq.gz [following]\n",
      "--2017-10-17 13:35:32--  https://raw.githubusercontent.com/lucapinello/cripsr_nanocourse_hms/master/reads2.2000.fastq.gz\n",
      "Resolving raw.githubusercontent.com... 151.101.116.133\n",
      "Connecting to raw.githubusercontent.com|151.101.116.133|:443... connected.\n",
      "HTTP request sent, awaiting response... 200 OK\n",
      "Length: 20008 (20K) [application/octet-stream]\n",
      "Saving to: ‘reads2.2000.fastq.gz’\n",
      "\n",
      "reads2.2000.fastq.g 100%[===================>]  19.54K  --.-KB/s    in 0.08s   \n",
      "\n",
      "2017-10-17 13:35:32 (249 KB/s) - ‘reads2.2000.fastq.gz’ saved [20008/20008]\n",
      "\n"
     ]
    }
   ],
   "source": [
    "#let's download the data\n",
    "wget https://github.com/lucapinello/cripsr_nanocourse_hms/blob/master/reads1.2000.fastq.gz?raw=true -O reads1.2000.fastq.gz\n",
    "wget https://github.com/lucapinello/cripsr_nanocourse_hms/blob/master/reads2.2000.fastq.gz?raw=true -O reads2.2000.fastq.gz"
   ]
  },
  {
   "cell_type": "code",
   "execution_count": 13,
   "metadata": {},
   "outputs": [
    {
     "name": "stdout",
     "output_type": "stream",
     "text": [
      "INFO  @ Tue, 17 Oct 2017 17:35:39:\n",
      "\t Cut Points from guide seq:[76] \n",
      "\n",
      "WARNING @ Tue, 17 Oct 2017 17:35:39:\n",
      "\t Folder CRISPResso_on_BCL11A_exon2 already exists. \n",
      "\n",
      "INFO  @ Tue, 17 Oct 2017 17:35:39:\n",
      "\t Filtering reads with average bp quality < 30 and single bp quality < 20 ... \n",
      "\n",
      "INFO  @ Tue, 17 Oct 2017 17:35:39:\n",
      "\t Estimating average read length... \n",
      "\n",
      "INFO  @ Tue, 17 Oct 2017 17:35:39:\n",
      "\t Merging paired sequences with Flash... \n",
      "\n",
      "INFO  @ Tue, 17 Oct 2017 17:35:39:\n",
      "\t Done! \n",
      "\n",
      "INFO  @ Tue, 17 Oct 2017 17:35:39:\n",
      "\t Preparing files for the alignment... \n",
      "\n",
      "INFO  @ Tue, 17 Oct 2017 17:35:39:\n",
      "\t Done! \n",
      "\n",
      "INFO  @ Tue, 17 Oct 2017 17:35:39:\n",
      "\t Aligning sequences... \n",
      "\n",
      "INFO  @ Tue, 17 Oct 2017 17:35:39:\n",
      "\t Align sequences to reverse complement of the amplicon... \n",
      "\n",
      "INFO  @ Tue, 17 Oct 2017 17:35:39:\n",
      "\t Done! \n",
      "\n",
      "INFO  @ Tue, 17 Oct 2017 17:35:39:\n",
      "\t Quantifying indels/substitutions... \n",
      "\n",
      "INFO  @ Tue, 17 Oct 2017 17:35:40:\n",
      "\t Done! \n",
      "\n",
      "INFO  @ Tue, 17 Oct 2017 17:35:40:\n",
      "\t Calculating indel distribution based on the length of the reads... \n",
      "\n",
      "INFO  @ Tue, 17 Oct 2017 17:35:40:\n",
      "\t Done! \n",
      "\n",
      "INFO  @ Tue, 17 Oct 2017 17:35:40:\n",
      "\t Calculating alleles frequencies... \n",
      "\n",
      "INFO  @ Tue, 17 Oct 2017 17:35:40:\n",
      "\t Done! \n",
      "\n",
      "INFO  @ Tue, 17 Oct 2017 17:35:40:\n",
      "\t Making Plots... \n",
      "\n",
      "/opt/conda/lib/python2.7/site-packages/matplotlib/font_manager.py:1297: UserWarning: findfont: Font family [u'sans-serif'] not found. Falling back to DejaVu Sans\n",
      "  (prop.get_family(), self.defaultFamily[fontext]))\n",
      "INFO  @ Tue, 17 Oct 2017 17:36:09:\n",
      "\t Done! \n",
      "\n",
      "INFO  @ Tue, 17 Oct 2017 17:36:09:\n",
      "\t Removing Intermediate files... \n",
      "\n",
      "INFO  @ Tue, 17 Oct 2017 17:36:09:\n",
      "\t Saving processed data... \n",
      "\n",
      "INFO  @ Tue, 17 Oct 2017 17:36:09:\n",
      "\t All Done! \n",
      "\n",
      "  \n",
      "~~~CRISPResso~~~\n",
      "-Analysis of CRISPR/Cas9 outcomes from deep sequencing data-\n",
      "\n",
      "                      )\n",
      "                     (\n",
      "                    __)__\n",
      "                 C\\|     |\n",
      "                   \\     /\n",
      "                    \\___/\n",
      "             \n",
      "\n",
      "[Luca Pinello 2015, send bugs, suggestions or *green coffee* to lucapinello AT gmail DOT com]\n",
      "\n",
      "Version 1.0.8\n",
      "\n",
      "\n",
      "                  )\n",
      "                 (\n",
      "                __)__\n",
      "             C\\|     |\n",
      "               \\     /\n",
      "                \\___/\n",
      "                \n"
     ]
    }
   ],
   "source": [
    "#finally we run CRISPResso\n",
    "docker  run \\\n",
    "-v $PWD:/DATA \\\n",
    "-w /DATA pinellolab/crispor_crispresso_nat_prot  \\\n",
    "CRISPResso -r1 reads1.2000.fastq.gz -r2 reads2.2000.fastq.gz \\\n",
    "-a AATGTCCCCCAATGGGAAGTTCATCTGGCACTGCCCACAGGTGAGGAGGTCATGATCCCCTTCTGGAGCTCCCAACGGGCCGTGGTCTGGTTCATCATCTGTAAGAATGGCTTCAAGAGGCTCGGCTGTGGTT \\\n",
    "-g TGAACCAGACCACGGCCCGT \\\n",
    "-s 20 \\\n",
    "-q 30 \\\n",
    "-n BCL11A_exon2\n"
   ]
  },
  {
   "cell_type": "markdown",
   "metadata": {},
   "source": [
    "## 3. CasOffinder Demo"
   ]
  },
  {
   "cell_type": "markdown",
   "metadata": {},
   "source": [
    "Finally let's compute all the potential off-target of our guide with cas-offinder with up to 6 mismatches"
   ]
  },
  {
   "cell_type": "code",
   "execution_count": 21,
   "metadata": {},
   "outputs": [
    {
     "name": "stdout",
     "output_type": "stream",
     "text": [
      "Cas-OFFinder v2.4 (Aug 17 2016)\n",
      "\n",
      "Copyright (c) 2013 Jeongbin Park and Sangsu Bae\n",
      "Website: http://github.com/snugel/cas-offinder\n",
      "\n",
      "Usage: cas-offinder {input_file} {C|G|A}[device_id(s)] {output_file}\n",
      "(C: using CPUs, G: using GPUs, A: using accelerators)\n",
      "\n",
      "Example input file:\n",
      "/var/chromosomes/human_hg19\n",
      "NNNNNNNNNNNNNNNNNNNNNRG\n",
      "GGCCGACCTGTCGCTGACGCNNN 5\n",
      "CGCCAGCGTCAGCGACAGGTNNN 5\n",
      "ACGGCGCCAGCGTCAGCGACNNN 5\n",
      "GTCGCTGACGCTGGCGCCGTNNN 5\n",
      "\n",
      "Available device list:\n",
      "Type: CPU, ID: 0, <Intel(R) Core(TM) i7-4870HQ CPU @ 2.50GHz> on <Intel(R) OpenCL>\n"
     ]
    }
   ],
   "source": [
    "#let's take a look to the command syntax\n",
    "docker run lucapinello/cas-offinder cas-offinder --help"
   ]
  },
  {
   "cell_type": "code",
   "execution_count": 22,
   "metadata": {
    "collapsed": true
   },
   "outputs": [],
   "source": [
    "#now we create the required input file"
   ]
  },
  {
   "cell_type": "raw",
   "metadata": {},
   "source": [
    "Let's consider the reverse complement of our guide to check in the amplicon what is the PAM:      \n",
    "TGAACCAGACCACGGCCCGT[TGG]\n",
    "[CCA]ACGGGCCGTGGTCTGGTTCA"
   ]
  },
  {
   "cell_type": "code",
   "execution_count": 23,
   "metadata": {},
   "outputs": [
    {
     "name": "stdout",
     "output_type": "stream",
     "text": [
      "/Users/luca/nanocourse_examples\n"
     ]
    }
   ],
   "source": [
    "pwd"
   ]
  },
  {
   "cell_type": "code",
   "execution_count": 24,
   "metadata": {
    "collapsed": true
   },
   "outputs": [],
   "source": [
    "echo '/DATA/crispor_genomes/hg19/hg19.2bit' > cas_offinder_input.txt\n",
    "echo 'NNNNNNNNNNNNNNNNNNNNNGG' >> cas_offinder_input.txt\n",
    "echo 'TGAACCAGACCACGGCCCGTNGG 5' >> cas_offinder_input.txt"
   ]
  },
  {
   "cell_type": "code",
   "execution_count": 25,
   "metadata": {},
   "outputs": [
    {
     "name": "stdout",
     "output_type": "stream",
     "text": [
      "/DATA/crispor_genomes/hg19/hg19.2bit\n",
      "NNNNNNNNNNNNNNNNNNNNNGG\n",
      "TGAACCAGACCACGGCCCGTNGG 5\n"
     ]
    }
   ],
   "source": [
    "cat cas_offinder_input.txt"
   ]
  },
  {
   "cell_type": "code",
   "execution_count": 26,
   "metadata": {},
   "outputs": [
    {
     "name": "stdout",
     "output_type": "stream",
     "text": [
      "Total 1 device(s) found.\n",
      "Loading input file...\n",
      "Reading /DATA/crispor_genomes/hg19/hg19.2bit...\n",
      "Sending data to devices...\n",
      "Chunk load started.\n",
      "1 devices selected to analyze...\n",
      "Finding pattern in chunk #1...\n",
      "Comparing patterns in chunk #1...\n",
      "1 devices selected to analyze...\n",
      "Finding pattern in chunk #2...\n",
      "Comparing patterns in chunk #2...\n",
      "1 devices selected to analyze...\n",
      "Finding pattern in chunk #3...\n",
      "Comparing patterns in chunk #3...\n",
      "1 devices selected to analyze...\n",
      "Finding pattern in chunk #4...\n",
      "Comparing patterns in chunk #4...\n",
      "1 devices selected to analyze...\n",
      "Finding pattern in chunk #5...\n",
      "Comparing patterns in chunk #5...\n",
      "1 devices selected to analyze...\n",
      "Finding pattern in chunk #6...\n",
      "Comparing patterns in chunk #6...\n",
      "1 devices selected to analyze...\n",
      "Finding pattern in chunk #7...\n",
      "Comparing patterns in chunk #7...\n",
      "1 devices selected to analyze...\n",
      "Finding pattern in chunk #8...\n",
      "Comparing patterns in chunk #8...\n",
      "1 devices selected to analyze...\n",
      "Finding pattern in chunk #9...\n",
      "Comparing patterns in chunk #9...\n",
      "1 devices selected to analyze...\n",
      "Finding pattern in chunk #10...\n",
      "Comparing patterns in chunk #10...\n",
      "1 devices selected to analyze...\n",
      "Finding pattern in chunk #11...\n",
      "Comparing patterns in chunk #11...\n",
      "1 devices selected to analyze...\n",
      "Finding pattern in chunk #12...\n",
      "Comparing patterns in chunk #12...\n",
      "1 devices selected to analyze...\n",
      "Finding pattern in chunk #13...\n",
      "Comparing patterns in chunk #13...\n",
      "1 devices selected to analyze...\n",
      "Finding pattern in chunk #14...\n",
      "Comparing patterns in chunk #14...\n",
      "1 devices selected to analyze...\n",
      "Finding pattern in chunk #15...\n",
      "Comparing patterns in chunk #15...\n",
      "1 devices selected to analyze...\n",
      "Finding pattern in chunk #16...\n",
      "Comparing patterns in chunk #16...\n",
      "1 devices selected to analyze...\n",
      "Finding pattern in chunk #17...\n",
      "Comparing patterns in chunk #17...\n",
      "1 devices selected to analyze...\n",
      "Finding pattern in chunk #18...\n",
      "Comparing patterns in chunk #18...\n",
      "1 devices selected to analyze...\n",
      "Finding pattern in chunk #19...\n",
      "Comparing patterns in chunk #19...\n",
      "1 devices selected to analyze...\n",
      "Finding pattern in chunk #20...\n",
      "Comparing patterns in chunk #20...\n",
      "1 devices selected to analyze...\n",
      "Finding pattern in chunk #21...\n",
      "Comparing patterns in chunk #21...\n",
      "1 devices selected to analyze...\n",
      "Finding pattern in chunk #22...\n",
      "Comparing patterns in chunk #22...\n",
      "1 devices selected to analyze...\n",
      "Finding pattern in chunk #23...\n",
      "Comparing patterns in chunk #23...\n",
      "1 devices selected to analyze...\n",
      "Finding pattern in chunk #24...\n",
      "Comparing patterns in chunk #24...\n",
      "1 devices selected to analyze...\n",
      "Finding pattern in chunk #25...\n",
      "Comparing patterns in chunk #25...\n",
      "1 devices selected to analyze...\n",
      "Finding pattern in chunk #26...\n",
      "Comparing patterns in chunk #26...\n",
      "1 devices selected to analyze...\n",
      "Finding pattern in chunk #27...\n",
      "Comparing patterns in chunk #27...\n",
      "1 devices selected to analyze...\n",
      "Finding pattern in chunk #28...\n",
      "Comparing patterns in chunk #28...\n",
      "1 devices selected to analyze...\n",
      "Finding pattern in chunk #29...\n",
      "Comparing patterns in chunk #29...\n",
      "1 devices selected to analyze...\n",
      "Finding pattern in chunk #30...\n",
      "Comparing patterns in chunk #30...\n",
      "1 devices selected to analyze...\n",
      "Finding pattern in chunk #31...\n",
      "Comparing patterns in chunk #31...\n",
      "125.414 seconds elapsed.\n"
     ]
    }
   ],
   "source": [
    "#finally we can run cas-offinder \n",
    "docker run \\\n",
    "-v $PWD:/DATA \\\n",
    "-w /DATA  \\\n",
    "lucapinello/cas-offinder  \\\n",
    "cas-offinder cas_offinder_input.txt C cas_offinder_output.txt"
   ]
  },
  {
   "cell_type": "code",
   "execution_count": 27,
   "metadata": {},
   "outputs": [
    {
     "name": "stdout",
     "output_type": "stream",
     "text": [
      "TGAACCAGACCACGGCCCGTNGG\tchr1\t36654002\tTGgACCAGACCACaGgCCtaTGG\t+\t5\n",
      "TGAACCAGACCACGGCCCGTNGG\tchr1\t18029332\tgGgAtCAGACCcCtGCCCGTGGG\t+\t5\n",
      "TGAACCAGACCACGGCCCGTNGG\tchr1\t22988021\tTGAAttAGACCACtGtCCcTTGG\t-\t5\n",
      "TGAACCAGACCACGGCCCGTNGG\tchr1\t17709871\tTGAACCAGACCtaGaCCCcTGGG\t-\t4\n",
      "TGAACCAGACCACGGCCCGTNGG\tchr1\t47695328\tTGAACCAGACCgatcCCaGTTGG\t-\t5\n",
      "TGAACCAGACCACGGCCCGTNGG\tchr1\t23063054\tgGAACCAGACCgCGGCCtGcAGG\t-\t4\n",
      "TGAACCAGACCACGGCCCGTNGG\tchr1\t37809486\tTGAggCAGACCcCaGCCCtTAGG\t-\t5\n",
      "TGAACCAGACCACGGCCCGTNGG\tchr1\t61253698\tTGggCCAGACCAaGGCaCGTGGG\t-\t4\n",
      "TGAACCAGACCACGGCCCGTNGG\tchr1\t42062459\tTGAcCaAGAtCAgGGCCCtTGGG\t-\t5\n",
      "TGAACCAGACCACGGCCCGTNGG\tchr1\t15102904\tTGAcCCAGACCcCtGtCCtTGGG\t+\t5\n"
     ]
    }
   ],
   "source": [
    "head cas_offinder_output.txt"
   ]
  },
  {
   "cell_type": "code",
   "execution_count": null,
   "metadata": {
    "collapsed": true
   },
   "outputs": [],
   "source": []
  },
  {
   "cell_type": "code",
   "execution_count": null,
   "metadata": {
    "collapsed": true
   },
   "outputs": [],
   "source": []
  }
 ],
 "metadata": {
  "kernelspec": {
   "display_name": "Bash",
   "language": "bash",
   "name": "bash"
  },
  "language_info": {
   "codemirror_mode": "shell",
   "file_extension": ".sh",
   "mimetype": "text/x-sh",
   "name": "bash"
  }
 },
 "nbformat": 4,
 "nbformat_minor": 2
}
